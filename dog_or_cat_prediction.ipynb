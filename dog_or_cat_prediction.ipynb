{
  "nbformat": 4,
  "nbformat_minor": 0,
  "metadata": {
    "colab": {
      "name": "dog_or_cat_prediction.ipynb",
      "provenance": [],
      "collapsed_sections": [],
      "toc_visible": true,
      "include_colab_link": true
    },
    "kernelspec": {
      "display_name": "py3-TF2.0",
      "language": "python",
      "name": "py3-tf2.0"
    },
    "language_info": {
      "codemirror_mode": {
        "name": "ipython",
        "version": 3
      },
      "file_extension": ".py",
      "mimetype": "text/x-python",
      "name": "python",
      "nbconvert_exporter": "python",
      "pygments_lexer": "ipython3",
      "version": "3.7.6"
    }
  },
  "cells": [
    {
      "cell_type": "markdown",
      "metadata": {
        "id": "view-in-github",
        "colab_type": "text"
      },
      "source": [
        "<a href=\"https://colab.research.google.com/github/alankarartist/ALMAIL/blob/master/dog_or_cat_prediction.ipynb\" target=\"_parent\"><img src=\"https://colab.research.google.com/assets/colab-badge.svg\" alt=\"Open In Colab\"/></a>"
      ]
    },
    {
      "cell_type": "markdown",
      "metadata": {
        "colab_type": "text",
        "id": "3DR-eO17geWu"
      },
      "source": [
        "# Dog or Cat Prediction using CNN Model"
      ]
    },
    {
      "cell_type": "markdown",
      "metadata": {
        "colab_type": "text",
        "id": "EMefrVPCg-60"
      },
      "source": [
        "### Importing the libraries"
      ]
    },
    {
      "cell_type": "code",
      "metadata": {
        "colab_type": "code",
        "id": "sCV30xyVhFbE",
        "colab": {},
        "outputId": "476e9777-f447-43c4-ec6e-321751a6a9b7"
      },
      "source": [
        "import tensorflow as tf\n",
        "from keras.preprocessing.image import ImageDataGenerator\n",
        "from PIL import Image"
      ],
      "execution_count": null,
      "outputs": [
        {
          "output_type": "stream",
          "text": [
            "Using TensorFlow backend.\n"
          ],
          "name": "stderr"
        }
      ]
    },
    {
      "cell_type": "code",
      "metadata": {
        "colab_type": "code",
        "id": "FIleuCAjoFD8",
        "colab": {},
        "outputId": "d6b74890-1289-49da-a414-cc1563019064"
      },
      "source": [
        "tf.__version__"
      ],
      "execution_count": null,
      "outputs": [
        {
          "output_type": "execute_result",
          "data": {
            "text/plain": [
              "'2.1.0'"
            ]
          },
          "metadata": {
            "tags": []
          },
          "execution_count": 2
        }
      ]
    },
    {
      "cell_type": "markdown",
      "metadata": {
        "colab_type": "text",
        "id": "oxQxCBWyoGPE"
      },
      "source": [
        "## Part 1 - Data Preprocessing"
      ]
    },
    {
      "cell_type": "markdown",
      "metadata": {
        "colab_type": "text",
        "id": "MvE-heJNo3GG"
      },
      "source": [
        "### Preprocessing the Training set"
      ]
    },
    {
      "cell_type": "code",
      "metadata": {
        "colab_type": "code",
        "id": "0koUcJMJpEBD",
        "colab": {},
        "outputId": "0a7febd3-7db1-4d43-e250-cffccb111a6e"
      },
      "source": [
        "train_datagen = ImageDataGenerator(rescale = 1./255,\n",
        "                                   shear_range = 0.2,\n",
        "                                   zoom_range = 0.2,\n",
        "                                   horizontal_flip = True)\n",
        "training_set = train_datagen.flow_from_directory('dataset/training_set',\n",
        "                                                 target_size = (64, 64),\n",
        "                                                 batch_size = 32,\n",
        "                                                 class_mode = 'binary')"
      ],
      "execution_count": null,
      "outputs": [
        {
          "output_type": "stream",
          "text": [
            "Found 8000 images belonging to 2 classes.\n"
          ],
          "name": "stdout"
        }
      ]
    },
    {
      "cell_type": "markdown",
      "metadata": {
        "colab_type": "text",
        "id": "mrCMmGw9pHys"
      },
      "source": [
        "### Preprocessing the Test set"
      ]
    },
    {
      "cell_type": "code",
      "metadata": {
        "colab_type": "code",
        "id": "SH4WzfOhpKc3",
        "colab": {},
        "outputId": "20747f19-e7f3-4b88-e431-3118f2273279"
      },
      "source": [
        "test_datagen = ImageDataGenerator(rescale = 1./255)\n",
        "test_set = test_datagen.flow_from_directory('dataset/test_set',\n",
        "                                            target_size = (64, 64),\n",
        "                                            batch_size = 32,\n",
        "                                            class_mode = 'binary')"
      ],
      "execution_count": null,
      "outputs": [
        {
          "output_type": "stream",
          "text": [
            "Found 2000 images belonging to 2 classes.\n"
          ],
          "name": "stdout"
        }
      ]
    },
    {
      "cell_type": "markdown",
      "metadata": {
        "colab_type": "text",
        "id": "af8O4l90gk7B"
      },
      "source": [
        "## Part 2 - Building the CNN"
      ]
    },
    {
      "cell_type": "markdown",
      "metadata": {
        "colab_type": "text",
        "id": "ces1gXY2lmoX"
      },
      "source": [
        "### Initialising the CNN"
      ]
    },
    {
      "cell_type": "code",
      "metadata": {
        "colab_type": "code",
        "id": "SAUt4UMPlhLS",
        "colab": {}
      },
      "source": [
        "cnn = tf.keras.models.Sequential()"
      ],
      "execution_count": null,
      "outputs": []
    },
    {
      "cell_type": "markdown",
      "metadata": {
        "colab_type": "text",
        "id": "u5YJj_XMl5LF"
      },
      "source": [
        "### Step 1 - Convolution"
      ]
    },
    {
      "cell_type": "code",
      "metadata": {
        "colab_type": "code",
        "id": "XPzPrMckl-hV",
        "colab": {}
      },
      "source": [
        "cnn.add(tf.keras.layers.Conv2D(filters=32, kernel_size=3, activation='relu', input_shape=[64, 64, 3]))"
      ],
      "execution_count": null,
      "outputs": []
    },
    {
      "cell_type": "markdown",
      "metadata": {
        "colab_type": "text",
        "id": "tf87FpvxmNOJ"
      },
      "source": [
        "### Step 2 - Pooling"
      ]
    },
    {
      "cell_type": "code",
      "metadata": {
        "colab_type": "code",
        "id": "ncpqPl69mOac",
        "colab": {}
      },
      "source": [
        "cnn.add(tf.keras.layers.MaxPool2D(pool_size=2, strides=2))"
      ],
      "execution_count": null,
      "outputs": []
    },
    {
      "cell_type": "markdown",
      "metadata": {
        "colab_type": "text",
        "id": "xaTOgD8rm4mU"
      },
      "source": [
        "### Adding a second convolutional layer"
      ]
    },
    {
      "cell_type": "code",
      "metadata": {
        "colab_type": "code",
        "id": "i_-FZjn_m8gk",
        "colab": {}
      },
      "source": [
        "cnn.add(tf.keras.layers.Conv2D(filters=32, kernel_size=3, activation='relu'))\n",
        "cnn.add(tf.keras.layers.MaxPool2D(pool_size=2, strides=2))"
      ],
      "execution_count": null,
      "outputs": []
    },
    {
      "cell_type": "markdown",
      "metadata": {
        "colab_type": "text",
        "id": "tmiEuvTunKfk"
      },
      "source": [
        "### Step 3 - Flattening"
      ]
    },
    {
      "cell_type": "code",
      "metadata": {
        "colab_type": "code",
        "id": "6AZeOGCvnNZn",
        "colab": {}
      },
      "source": [
        "cnn.add(tf.keras.layers.Flatten())"
      ],
      "execution_count": null,
      "outputs": []
    },
    {
      "cell_type": "markdown",
      "metadata": {
        "colab_type": "text",
        "id": "dAoSECOm203v"
      },
      "source": [
        "### Step 4 - Full Connection"
      ]
    },
    {
      "cell_type": "code",
      "metadata": {
        "colab_type": "code",
        "id": "8GtmUlLd26Nq",
        "colab": {}
      },
      "source": [
        "cnn.add(tf.keras.layers.Dense(units=128, activation='relu'))"
      ],
      "execution_count": null,
      "outputs": []
    },
    {
      "cell_type": "markdown",
      "metadata": {
        "colab_type": "text",
        "id": "yTldFvbX28Na"
      },
      "source": [
        "### Step 5 - Output Layer"
      ]
    },
    {
      "cell_type": "code",
      "metadata": {
        "colab_type": "code",
        "id": "1p_Zj1Mc3Ko_",
        "colab": {}
      },
      "source": [
        "cnn.add(tf.keras.layers.Dense(units=1, activation='sigmoid'))"
      ],
      "execution_count": null,
      "outputs": []
    },
    {
      "cell_type": "markdown",
      "metadata": {
        "colab_type": "text",
        "id": "D6XkI90snSDl"
      },
      "source": [
        "## Part 3 - Training the CNN"
      ]
    },
    {
      "cell_type": "markdown",
      "metadata": {
        "colab_type": "text",
        "id": "vfrFQACEnc6i"
      },
      "source": [
        "### Compiling the CNN"
      ]
    },
    {
      "cell_type": "code",
      "metadata": {
        "colab_type": "code",
        "id": "NALksrNQpUlJ",
        "colab": {}
      },
      "source": [
        "cnn.compile(optimizer = 'adam', loss = 'binary_crossentropy', metrics = ['accuracy'])"
      ],
      "execution_count": null,
      "outputs": []
    },
    {
      "cell_type": "markdown",
      "metadata": {
        "colab_type": "text",
        "id": "ehS-v3MIpX2h"
      },
      "source": [
        "### Training the CNN on the Training set and evaluating it on the Test set"
      ]
    },
    {
      "cell_type": "code",
      "metadata": {
        "colab_type": "code",
        "id": "XUj1W4PJptta",
        "colab": {},
        "outputId": "d7a9e097-f1c9-40b6-b063-9f160eead4d3"
      },
      "source": [
        "cnn.fit(x = training_set, validation_data = test_set, epochs = 25)"
      ],
      "execution_count": null,
      "outputs": [
        {
          "output_type": "stream",
          "text": [
            "WARNING:tensorflow:sample_weight modes were coerced from\n",
            "  ...\n",
            "    to  \n",
            "  ['...']\n",
            "WARNING:tensorflow:sample_weight modes were coerced from\n",
            "  ...\n",
            "    to  \n",
            "  ['...']\n",
            "Train for 250 steps, validate for 63 steps\n",
            "Epoch 1/25\n",
            "250/250 [==============================] - 485s 2s/step - loss: 0.6581 - accuracy: 0.6100 - val_loss: 0.5849 - val_accuracy: 0.7015\n",
            "Epoch 2/25\n",
            "250/250 [==============================] - 128s 514ms/step - loss: 0.5845 - accuracy: 0.6929 - val_loss: 0.5502 - val_accuracy: 0.7230\n",
            "Epoch 3/25\n",
            "250/250 [==============================] - 79s 314ms/step - loss: 0.5377 - accuracy: 0.7297 - val_loss: 0.5342 - val_accuracy: 0.7440\n",
            "Epoch 4/25\n",
            "250/250 [==============================] - 59s 236ms/step - loss: 0.5058 - accuracy: 0.7501 - val_loss: 0.5147 - val_accuracy: 0.7550\n",
            "Epoch 5/25\n",
            "250/250 [==============================] - 57s 228ms/step - loss: 0.4794 - accuracy: 0.7681 - val_loss: 0.5013 - val_accuracy: 0.7610\n",
            "Epoch 6/25\n",
            "250/250 [==============================] - 57s 229ms/step - loss: 0.4631 - accuracy: 0.7756 - val_loss: 0.4721 - val_accuracy: 0.7830\n",
            "Epoch 7/25\n",
            "250/250 [==============================] - 58s 230ms/step - loss: 0.4460 - accuracy: 0.7819 - val_loss: 0.4640 - val_accuracy: 0.7775\n",
            "Epoch 8/25\n",
            "250/250 [==============================] - 53s 210ms/step - loss: 0.4341 - accuracy: 0.7930 - val_loss: 0.5389 - val_accuracy: 0.7500\n",
            "Epoch 9/25\n",
            "250/250 [==============================] - 61s 243ms/step - loss: 0.4148 - accuracy: 0.8064 - val_loss: 0.4690 - val_accuracy: 0.7920\n",
            "Epoch 10/25\n",
            "250/250 [==============================] - 65s 259ms/step - loss: 0.4069 - accuracy: 0.8087 - val_loss: 0.4760 - val_accuracy: 0.7775\n",
            "Epoch 11/25\n",
            "250/250 [==============================] - 101s 402ms/step - loss: 0.3943 - accuracy: 0.8129 - val_loss: 0.4482 - val_accuracy: 0.7935\n",
            "Epoch 12/25\n",
            "250/250 [==============================] - 131s 525ms/step - loss: 0.3802 - accuracy: 0.8278 - val_loss: 0.4592 - val_accuracy: 0.7860\n",
            "Epoch 13/25\n",
            "250/250 [==============================] - 57s 228ms/step - loss: 0.3656 - accuracy: 0.8319 - val_loss: 0.4762 - val_accuracy: 0.7875\n",
            "Epoch 14/25\n",
            "250/250 [==============================] - 51s 205ms/step - loss: 0.3535 - accuracy: 0.8390 - val_loss: 0.4601 - val_accuracy: 0.7985\n",
            "Epoch 15/25\n",
            "250/250 [==============================] - 51s 203ms/step - loss: 0.3395 - accuracy: 0.8501 - val_loss: 0.4700 - val_accuracy: 0.7800\n",
            "Epoch 16/25\n",
            "250/250 [==============================] - 51s 204ms/step - loss: 0.3330 - accuracy: 0.8487 - val_loss: 0.5370 - val_accuracy: 0.7755\n",
            "Epoch 17/25\n",
            "250/250 [==============================] - 52s 208ms/step - loss: 0.3280 - accuracy: 0.8528 - val_loss: 0.4293 - val_accuracy: 0.8150\n",
            "Epoch 18/25\n",
            "250/250 [==============================] - 51s 202ms/step - loss: 0.3078 - accuracy: 0.8604 - val_loss: 0.4767 - val_accuracy: 0.7975\n",
            "Epoch 19/25\n",
            "250/250 [==============================] - 52s 209ms/step - loss: 0.3103 - accuracy: 0.8675 - val_loss: 0.4541 - val_accuracy: 0.8160\n",
            "Epoch 20/25\n",
            "250/250 [==============================] - 51s 203ms/step - loss: 0.2863 - accuracy: 0.8748 - val_loss: 0.4882 - val_accuracy: 0.7955\n",
            "Epoch 21/25\n",
            "250/250 [==============================] - 51s 203ms/step - loss: 0.2754 - accuracy: 0.8830 - val_loss: 0.4970 - val_accuracy: 0.8045\n",
            "Epoch 22/25\n",
            "250/250 [==============================] - 52s 207ms/step - loss: 0.2640 - accuracy: 0.8876 - val_loss: 0.4771 - val_accuracy: 0.7990\n",
            "Epoch 23/25\n",
            "250/250 [==============================] - 52s 209ms/step - loss: 0.2557 - accuracy: 0.8913 - val_loss: 0.4644 - val_accuracy: 0.8135\n",
            "Epoch 24/25\n",
            "250/250 [==============================] - 51s 206ms/step - loss: 0.2415 - accuracy: 0.9001 - val_loss: 0.4783 - val_accuracy: 0.8160\n",
            "Epoch 25/25\n",
            "250/250 [==============================] - 52s 207ms/step - loss: 0.2329 - accuracy: 0.9041 - val_loss: 0.4842 - val_accuracy: 0.8055\n"
          ],
          "name": "stdout"
        },
        {
          "output_type": "execute_result",
          "data": {
            "text/plain": [
              "<tensorflow.python.keras.callbacks.History at 0x2aecf53e0c8>"
            ]
          },
          "metadata": {
            "tags": []
          },
          "execution_count": 13
        }
      ]
    },
    {
      "cell_type": "markdown",
      "metadata": {
        "colab_type": "text",
        "id": "U3PZasO0006Z"
      },
      "source": [
        "## Part 4 - Making a single prediction"
      ]
    },
    {
      "cell_type": "code",
      "metadata": {
        "colab_type": "code",
        "id": "gsSiWEJY1BPB",
        "colab": {}
      },
      "source": [
        "import numpy as np\n",
        "from keras.preprocessing import image\n",
        "test_image = image.load_img('dataset/single_prediction/cat_or_dog_1.jpg', target_size = (64, 64))\n",
        "test_image = image.img_to_array(test_image)\n",
        "test_image = np.expand_dims(test_image, axis = 0)\n",
        "result = cnn.predict(test_image)\n",
        "training_set.class_indices\n",
        "if result[0][0] == 1:\n",
        "  prediction = 'dog'\n",
        "else:\n",
        "  prediction = 'cat'"
      ],
      "execution_count": null,
      "outputs": []
    },
    {
      "cell_type": "code",
      "metadata": {
        "colab_type": "code",
        "id": "ED9KB3I54c1i",
        "colab": {},
        "outputId": "dd825c97-d10d-4f5d-cb66-410961cc0478"
      },
      "source": [
        "print(prediction)"
      ],
      "execution_count": null,
      "outputs": [
        {
          "output_type": "stream",
          "text": [
            "dog\n"
          ],
          "name": "stdout"
        }
      ]
    }
  ]
}